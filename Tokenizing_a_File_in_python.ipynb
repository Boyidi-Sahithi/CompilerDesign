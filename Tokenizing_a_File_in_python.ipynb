{
  "nbformat": 4,
  "nbformat_minor": 0,
  "metadata": {
    "colab": {
      "provenance": [],
      "authorship_tag": "ABX9TyOfR3X7IwCL3QKGRrGE+noF",
      "include_colab_link": true
    },
    "kernelspec": {
      "name": "python3",
      "display_name": "Python 3"
    },
    "language_info": {
      "name": "python"
    }
  },
  "cells": [
    {
      "cell_type": "markdown",
      "metadata": {
        "id": "view-in-github",
        "colab_type": "text"
      },
      "source": [
        "<a href=\"https://colab.research.google.com/github/Boyidi-Sahithi/CompilerDesign/blob/main/Untitled3.ipynb\" target=\"_parent\"><img src=\"https://colab.research.google.com/assets/colab-badge.svg\" alt=\"Open In Colab\"/></a>"
      ]
    },
    {
      "cell_type": "code",
      "execution_count": 1,
      "metadata": {
        "id": "pkmyWB4uQs67"
      },
      "outputs": [],
      "source": [
        "keywords={\"auto\",\"break\",\"case\",\"char\",\"const\",\"continue\",\"default\",\"do\",\"double\",\"else\",\"enum\",\"extern\",\"float\",\"for\",\"goto\",\"if\",\"int\",\"long\",\"register\",\"return\",\"short\",\"signed\",\"sizeof\",\"static\",\"struct\",\"switch\",\"typedef\",\"union\",\"unsigned\",\"void\",\"while\",\"printf\",\"scanf\",\"%d\",\"include\",\"stdio.h\",\"main\"}\n"
      ]
    },
    {
      "cell_type": "code",
      "source": [
        "operators={\"+\",\"-\",\"*\",\"/\",\"<\",\">\",\"=\",\"<=\",\">=\",\"==\",\"!=\",\"++\",\"--\",\"%\"}\n"
      ],
      "metadata": {
        "id": "Tr3ScLsnVQ0M"
      },
      "execution_count": 2,
      "outputs": []
    },
    {
      "cell_type": "code",
      "source": [
        "delimiters={'(',')','{','}','[',']','\"\"',';','#',',',''}\n"
      ],
      "metadata": {
        "id": "H8aV37ECWgzp"
      },
      "execution_count": 3,
      "outputs": []
    },
    {
      "cell_type": "code",
      "source": [
        "def detect_keywords(text):\n",
        "    arr=[]\n",
        "    for word in text:\n",
        "      if word in keywords:\n",
        "        arr.append(word)\n",
        "    return list(set(arr))\n",
        ""
      ],
      "metadata": {
        "id": "qLdabBZ2YONF"
      },
      "execution_count": 4,
      "outputs": []
    },
    {
      "cell_type": "code",
      "source": [
        "def detect_operators(text):\n",
        "    arr=[]\n",
        "    for word in text:\n",
        "      if word in operators:\n",
        "        arr.append(word)\n",
        "    return list(set(arr))"
      ],
      "metadata": {
        "id": "iDV1dDzKYxE9"
      },
      "execution_count": 5,
      "outputs": []
    },
    {
      "cell_type": "code",
      "source": [],
      "metadata": {
        "id": "CqP4uSz2ZbN7"
      },
      "execution_count": null,
      "outputs": []
    },
    {
      "cell_type": "code",
      "source": [
        "def detect_delimiters(text):\n",
        "    arr=[]\n",
        "    for word in text:\n",
        "      if word in delimiters:\n",
        "        arr.append(word)\n",
        "        return list(set(arr))"
      ],
      "metadata": {
        "id": "bAxhTH6GZbQX"
      },
      "execution_count": 6,
      "outputs": []
    },
    {
      "cell_type": "code",
      "source": [
        "def detect_num(text):\n",
        "    arr=[]\n",
        "    for word in text:\n",
        "      try:\n",
        "        a=int(word)\n",
        "        arr.append(word)\n",
        "      except:\n",
        "        pass\n",
        "    return list(set(arr))"
      ],
      "metadata": {
        "id": "MgEsYEH_aznK"
      },
      "execution_count": 7,
      "outputs": []
    },
    {
      "cell_type": "code",
      "source": [
        "def detect_identifiers(text):\n",
        "  k=detect_keywords(text)\n",
        "  o=detect_operators(text)\n",
        "  d=detect_delimiters(text)\n",
        "  n=detect_num(text)\n",
        "  not_ident=k+o+d+n\n",
        "  arr=[]\n",
        "  for word in text:\n",
        "    if word not in not_ident:\n",
        "      arr.append(word)\n",
        "  return arr\n"
      ],
      "metadata": {
        "id": "melhn1cZctPt"
      },
      "execution_count": 8,
      "outputs": []
    },
    {
      "cell_type": "code",
      "source": [
        "with open('e1-example.txt') as t:\n",
        "  text=t.read().split()\n",
        "print(\"Keywords:\",detect_keywords(text))\n",
        "print(\"Operators:\",detect_operators(text))\n",
        "print(\"Delimiters:\",detect_delimiters(text))\n",
        "print(\"Identifiers:\",detect_identifiers(text))\n",
        "print(\"Numbers:\",detect_num(text))"
      ],
      "metadata": {
        "colab": {
          "base_uri": "https://localhost:8080/"
        },
        "id": "f7Wsxldzqi6i",
        "outputId": "5342c2d4-919f-48ee-bca6-fbdd2d4a42d5"
      },
      "execution_count": 11,
      "outputs": [
        {
          "output_type": "stream",
          "name": "stdout",
          "text": [
            "Keywords: ['if', 'return']\n",
            "Operators: []\n",
            "Delimiters: ['(']\n",
            "Identifiers: ['def', 'abs', 'a', ')', ':', 'a>0', ')', ':', 'a', 'else:', 'a*-1']\n",
            "Numbers: []\n"
          ]
        }
      ]
    }
  ]
}
